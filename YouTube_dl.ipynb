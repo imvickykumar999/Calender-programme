{
 "cells": [
  {
   "cell_type": "code",
   "execution_count": 1,
   "metadata": {},
   "outputs": [
    {
     "name": "stdout",
     "output_type": "stream",
     "text": [
      "Copy & paste the URL of the YouTube video you want to download:- https://www.youtube.com/watch?v=IxQWwugTUGU\n",
      "[youtube] IxQWwugTUGU: Downloading webpage\n",
      "[youtube] IxQWwugTUGU: Downloading video info webpage\n",
      "[download] Destination: Satisfya Female Version _ Gaddi Lamborghini _ Imran Khan _ Cover by AiSh-IxQWwugTUGU.mp4\n",
      "[download] 100% of 7.53MiB in 00:03                  \n",
      "Enter 1 if you want to download more videos \n",
      "Enter 0 if you are done 0\n"
     ]
    }
   ],
   "source": [
    "# importing module \n",
    "import youtube_dl \n",
    "\n",
    "ydl_opts = {} \n",
    "\n",
    "def dwl_vid(): \n",
    "\twith youtube_dl.YoutubeDL(ydl_opts) as ydl: \n",
    "\t\tydl.download([zxt]) \n",
    "\n",
    "channel = 1\n",
    "while (channel == int(1)): \n",
    "\tlink_of_the_video = input(\"Copy & paste the URL of the YouTube video you want to download:- \") \n",
    "\tzxt = link_of_the_video.strip() \n",
    "\n",
    "\tdwl_vid() \n",
    "\tchannel = int(input(\"Enter 1 if you want to download more videos \\nEnter 0 if you are done \")) \n"
   ]
  },
  {
   "cell_type": "code",
   "execution_count": null,
   "metadata": {},
   "outputs": [],
   "source": []
  }
 ],
 "metadata": {
  "kernelspec": {
   "display_name": "Python 3",
   "language": "python",
   "name": "python3"
  },
  "language_info": {
   "codemirror_mode": {
    "name": "ipython",
    "version": 3
   },
   "file_extension": ".py",
   "mimetype": "text/x-python",
   "name": "python",
   "nbconvert_exporter": "python",
   "pygments_lexer": "ipython3",
   "version": "3.7.4"
  }
 },
 "nbformat": 4,
 "nbformat_minor": 2
}
